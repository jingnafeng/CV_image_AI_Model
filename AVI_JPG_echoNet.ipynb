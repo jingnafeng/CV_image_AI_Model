{
 "cells": [
  {
   "cell_type": "markdown",
   "metadata": {},
   "source": [
    "# Convert EchoNet AVI files to JPG\n",
    "\n",
    "- Jinna\n",
    "- Jun 14, 2024\n",
    "\n",
    "- Dataset should be requested from Stanford AIMI: https://echonet.github.io/dynamic/index.html \n",
    "\n",
    "++ Package: \n",
    "1. Python 3.8\n",
    "2. OpenCV: \n",
    "`conda install -c conda-forge opencv`"
   ]
  },
  {
   "cell_type": "code",
   "execution_count": 10,
   "metadata": {
    "metadata": {}
   },
   "outputs": [
    {
     "data": {
      "text/plain": [
       "['0X1A3D565B371DC573.avi']"
      ]
     },
     "execution_count": 10,
     "metadata": {},
     "output_type": "execute_result"
    }
   ],
   "source": [
    "import cv2\n",
    "import os\n",
    "\n",
    "# path_sample = './EchoNet-Dynamic/sample/'\n",
    "\n",
    "# os.listdir(path_sample)"
   ]
  },
  {
   "cell_type": "code",
   "execution_count": 21,
   "metadata": {
    "metadata": {}
   },
   "outputs": [],
   "source": [
    "# set input path\n",
    "path_in = './EchoNet-Dynamic/'\n",
    "\n",
    "# set output path\n",
    "path_out = path_in+'out/'\n",
    "\n",
    "# set AVI files input path\n",
    "path_avi = path_out+'test/'\n",
    "\n",
    "# set JPG files output path\n",
    "path_jpg = path_out+'jpg'\n",
    "\n",
    "# make the jpg output folder\n",
    "os.mkdir(path_out+'jpg/')"
   ]
  },
  {
   "cell_type": "code",
   "execution_count": 53,
   "metadata": {
    "metadata": {}
   },
   
    }
   ],
   "source": [
    "source = path_avi\n",
    "\n",
    "fl = os.listdir(source)\n",
    "\n",
    "for f in fl:\n",
    "    fn = f.split('.')[0]\n",
    "    print(fn)\n",
    "    source_path = os.path.join(source,f) # path to each AVI file\n",
    "    dir_path = os.path.join(path_jpg,fn) # path to output JPG folder\n",
    "    os.makedirs(dir_path, exist_ok=True) # make the JPG folder for each AVI file\n",
    "    # Load the AVI video file\n",
    "    vidcap = cv2.VideoCapture(source_path)\n",
    "\n",
    "    # Initialize variables\n",
    "    success, image = vidcap.read()\n",
    "    count = 0\n",
    "\n",
    "    # Iterate through frames and save them as JPEG files\n",
    "    while success:\n",
    "        os.chdir(dir_path)\n",
    "        cv2.imwrite(f\"{fn}_{count}.jpg\", image)  # Save frame as JPEG file\n",
    "        success, image = vidcap.read()  # Read the next frame\n",
    "        count += 1\n",
    "    os.chdir(path_avi)\n",
    "\n",
    "    # Release the video capture object\n",
    "    vidcap.release()\n",
    "\n",
    "    print(f\"Converted {count} frames to JPEG images.\")"
   ]
  },
  {
   "cell_type": "markdown",
   "metadata": {},
   "source": [
    "## Check output in folders"
   ]
  },
  {
   "cell_type": "code",
   "execution_count": 54,
   "metadata": {
    "metadata": {}
   },
   "outputs": [
    {
     "data": {
      "text/plain": [
       " "
      ]
     },
     "execution_count": 54,
     "metadata": {},
     "output_type": "execute_result"
    }
   ],
   "source": [
    "os.listdir(path_jpg+'/0X6BAE7A563B2DD386')"
   ]
  },
  {
   "cell_type": "code",
   "execution_count": 55,
   "metadata": {
    "metadata": {}
   },
   "outputs": [
    {
     "data": {
      "text/plain": [
       " "
      ]
     },
     "execution_count": 55,
     "metadata": {},
     "output_type": "execute_result"
    }
   ],
   "source": [
    "os.listdir(path_jpg+'/0X794FD97F585E5500')"
   ]
  },
  {
   "cell_type": "markdown",
   "metadata": {},
   "source": [
    "## For Sample file processing\n",
    "\n",
    "Use for testing on one AVI file"
   ]
  },
  {
   "cell_type": "code",
   "execution_count": 8,
   "metadata": {
    "metadata": {}
   },
   "outputs": [
    {
     "name": "stdout",
     "output_type": "stream",
     "text": [
      "Converted 327 frames to JPEG images.\n"
     ]
    }
   ],
   "source": [
    "# # Load the AVI video file\n",
    "# vidcap = cv2.VideoCapture(path_sample+'0X1A3D565B371DC573.avi')\n",
    "\n",
    "# # Initialize variables\n",
    "# success, image = vidcap.read()\n",
    "# count = 0\n",
    "\n",
    "# # Iterate through frames and save them as JPEG files\n",
    "# while success:\n",
    "#     cv2.imwrite(f\"frame{count}.jpg\", image)  # Save frame as JPEG file\n",
    "#     success, image = vidcap.read()  # Read the next frame\n",
    "#     count += 1\n",
    "\n",
    "# # Release the video capture object\n",
    "# vidcap.release()\n",
    "\n",
    "# print(f\"Converted {count} frames to JPEG images.\")\n",
    "# # https://stackoverflow.com/questions/44947505/how-to-make-a-movie-out-of-images-in-python"
   ]
  }
 ],
 "metadata": {
  "kernelspec": {
   "display_name": "cv",
   "language": "python",
   "name": "python3"
  },
  "language_info": {
   "codemirror_mode": {
    "name": "ipython",
    "version": 3
   },
   "file_extension": ".py",
   "mimetype": "text/x-python",
   "name": "python",
   "nbconvert_exporter": "python",
   "pygments_lexer": "ipython3",
   "version": "3.8.19"
  }
 },
 "nbformat": 4,
 "nbformat_minor": 2
}
